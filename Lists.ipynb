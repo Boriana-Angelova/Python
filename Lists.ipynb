{
 "cells": [
  {
   "cell_type": "markdown",
   "id": "397a8f5e",
   "metadata": {},
   "source": [
    "**Lists in Python**"
   ]
  },
  {
   "cell_type": "markdown",
   "id": "f9264b72",
   "metadata": {},
   "source": [
    "Arrays:\n",
    "- have fixed size\n",
    "- can hold only a single Types\n",
    "- indexable (quick access)\n",
    "- for loopable"
   ]
  },
  {
   "cell_type": "markdown",
   "id": "d4144360",
   "metadata": {},
   "source": [
    "Lists are like arrays, but the extend dynamically <br>\n",
    "Python has a powerful literal syntax for creating a lists"
   ]
  },
  {
   "cell_type": "code",
   "execution_count": 3,
   "id": "60ccd6bb",
   "metadata": {},
   "outputs": [
    {
     "name": "stdout",
     "output_type": "stream",
     "text": [
      "['Java', 'Python', 'C#', 'Ruby']\n"
     ]
    }
   ],
   "source": [
    "languages_example = ['Java', 'Python', 'C#', 'Ruby']\n",
    "print(languages)"
   ]
  },
  {
   "cell_type": "code",
   "execution_count": 2,
   "id": "e543200a",
   "metadata": {},
   "outputs": [
    {
     "name": "stdout",
     "output_type": "stream",
     "text": [
      "['Java', 'Python', 'C#', 'Ruby']\n"
     ]
    }
   ],
   "source": [
    "# create a list\n",
    "languages = []\n",
    "languages.append(\"Java\")\n",
    "languages.append(\"Python\")\n",
    "languages.append(\"C#\")\n",
    "languages.append(\"Ruby\")\n",
    "print(languages)"
   ]
  },
  {
   "cell_type": "markdown",
   "id": "6cfeb28b",
   "metadata": {},
   "source": [
    "Python lists are heterogeneous"
   ]
  },
  {
   "cell_type": "code",
   "execution_count": 6,
   "id": "f430ea86",
   "metadata": {},
   "outputs": [
    {
     "name": "stdout",
     "output_type": "stream",
     "text": [
      "[1, True, 'False', [], None]\n"
     ]
    }
   ],
   "source": [
    "mixed = [1, True, \"False\", [], None]\n",
    "print(mixed)"
   ]
  },
  {
   "cell_type": "code",
   "execution_count": 7,
   "id": "4b89c3be",
   "metadata": {},
   "outputs": [
    {
     "name": "stdout",
     "output_type": "stream",
     "text": [
      "Java\n",
      "Python\n",
      "C#\n",
      "Ruby\n"
     ]
    }
   ],
   "source": [
    "for language in languages:\n",
    "    print(language)"
   ]
  },
  {
   "cell_type": "code",
   "execution_count": 10,
   "id": "4825c581",
   "metadata": {},
   "outputs": [
    {
     "data": {
      "text/plain": [
       "4"
      ]
     },
     "execution_count": 10,
     "metadata": {},
     "output_type": "execute_result"
    }
   ],
   "source": [
    "# Lenght of a list - len function from builtin\n",
    "len(languages)"
   ]
  },
  {
   "cell_type": "code",
   "execution_count": 16,
   "id": "e7abcef7",
   "metadata": {},
   "outputs": [
    {
     "data": {
      "text/plain": [
       "True"
      ]
     },
     "execution_count": 16,
     "metadata": {},
     "output_type": "execute_result"
    }
   ],
   "source": [
    "# boolean value of a list\n",
    "bool(languages)"
   ]
  },
  {
   "cell_type": "code",
   "execution_count": 17,
   "id": "c5109914",
   "metadata": {},
   "outputs": [
    {
     "name": "stdout",
     "output_type": "stream",
     "text": [
      "['Java', 'Python', 'C#', 'Ruby']\n"
     ]
    }
   ],
   "source": [
    "if languages:\n",
    "    print(languages)"
   ]
  },
  {
   "cell_type": "code",
   "execution_count": 13,
   "id": "31605f63",
   "metadata": {},
   "outputs": [
    {
     "data": {
      "text/plain": [
       "False"
      ]
     },
     "execution_count": 13,
     "metadata": {},
     "output_type": "execute_result"
    }
   ],
   "source": [
    "bool([])"
   ]
  },
  {
   "cell_type": "code",
   "execution_count": 18,
   "id": "4ce08e79",
   "metadata": {},
   "outputs": [
    {
     "name": "stdout",
     "output_type": "stream",
     "text": [
      "Java\n",
      "Python\n",
      "C#\n",
      "Ruby\n"
     ]
    }
   ],
   "source": [
    "# Iterate over elements \n",
    "for i in languages:\n",
    "    print(i)"
   ]
  },
  {
   "cell_type": "code",
   "execution_count": 32,
   "id": "50639e62",
   "metadata": {},
   "outputs": [
    {
     "name": "stdout",
     "output_type": "stream",
     "text": [
      "0\n",
      "1\n",
      "2\n",
      "3\n"
     ]
    }
   ],
   "source": [
    "# Iterate over index\n",
    "xs = [\"a\", \"b\", \"c\", \"d\"]\n",
    "for index in range(len(xs)):\n",
    "    print(index)"
   ]
  },
  {
   "cell_type": "code",
   "execution_count": 33,
   "id": "a9080450",
   "metadata": {},
   "outputs": [
    {
     "name": "stdout",
     "output_type": "stream",
     "text": [
      "0 a\n",
      "1 b\n",
      "2 c\n",
      "3 d\n"
     ]
    }
   ],
   "source": [
    "# Iterate over index and elements \n",
    "for index in range(len(xs)):\n",
    "    element = xs[index]\n",
    "    print(index, element)"
   ]
  },
  {
   "cell_type": "code",
   "execution_count": 22,
   "id": "1fe49e8d",
   "metadata": {},
   "outputs": [
    {
     "data": {
      "text/plain": [
       "True"
      ]
     },
     "execution_count": 22,
     "metadata": {},
     "output_type": "execute_result"
    }
   ],
   "source": [
    "# Compare lists\n",
    "# empty list\n",
    "[] == []"
   ]
  },
  {
   "cell_type": "code",
   "execution_count": 23,
   "id": "1b0c8e15",
   "metadata": {},
   "outputs": [
    {
     "data": {
      "text/plain": [
       "False"
      ]
     },
     "execution_count": 23,
     "metadata": {},
     "output_type": "execute_result"
    }
   ],
   "source": [
    "[1] == []"
   ]
  },
  {
   "cell_type": "code",
   "execution_count": 24,
   "id": "8cf20572",
   "metadata": {},
   "outputs": [
    {
     "data": {
      "text/plain": [
       "False"
      ]
     },
     "execution_count": 24,
     "metadata": {},
     "output_type": "execute_result"
    }
   ],
   "source": [
    "[[1]] == [[2]]"
   ]
  },
  {
   "cell_type": "markdown",
   "id": "f8b99ba7",
   "metadata": {},
   "source": [
    "If we access index that is out of the bounds we receive exeptions"
   ]
  },
  {
   "cell_type": "code",
   "execution_count": 27,
   "id": "b9ba044b",
   "metadata": {},
   "outputs": [
    {
     "data": {
      "text/plain": [
       "[1, 2, 5, 7, 9, 7]"
      ]
     },
     "execution_count": 27,
     "metadata": {},
     "output_type": "execute_result"
    }
   ],
   "source": [
    "# Concatenate of 2 lists\n",
    "[1, 2, 5] + [7, 9, 7]"
   ]
  },
  {
   "cell_type": "code",
   "execution_count": 30,
   "id": "75326c70",
   "metadata": {},
   "outputs": [
    {
     "data": {
      "text/plain": [
       "False"
      ]
     },
     "execution_count": 30,
     "metadata": {},
     "output_type": "execute_result"
    }
   ],
   "source": [
    "# Chech if elements belongs to a list\n",
    "4 in [1, 2, 3]"
   ]
  },
  {
   "cell_type": "code",
   "execution_count": 31,
   "id": "71451f63",
   "metadata": {},
   "outputs": [
    {
     "data": {
      "text/plain": [
       "True"
      ]
     },
     "execution_count": 31,
     "metadata": {},
     "output_type": "execute_result"
    }
   ],
   "source": [
    "4 not in [1, 2, 3]"
   ]
  },
  {
   "cell_type": "code",
   "execution_count": null,
   "id": "5f7ebc44",
   "metadata": {},
   "outputs": [],
   "source": []
  }
 ],
 "metadata": {
  "kernelspec": {
   "display_name": "Python 3 (ipykernel)",
   "language": "python",
   "name": "python3"
  },
  "language_info": {
   "codemirror_mode": {
    "name": "ipython",
    "version": 3
   },
   "file_extension": ".py",
   "mimetype": "text/x-python",
   "name": "python",
   "nbconvert_exporter": "python",
   "pygments_lexer": "ipython3",
   "version": "3.9.16"
  }
 },
 "nbformat": 4,
 "nbformat_minor": 5
}
