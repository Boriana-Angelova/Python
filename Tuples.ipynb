{
 "cells": [
  {
   "cell_type": "markdown",
   "id": "0a54e888",
   "metadata": {},
   "source": [
    "<!-- Tuples  -->"
   ]
  },
  {
   "cell_type": "markdown",
   "id": "d07988ee",
   "metadata": {},
   "source": [
    "**Tuples in Python**"
   ]
  },
  {
   "cell_type": "markdown",
   "id": "7b009061",
   "metadata": {},
   "source": [
    "Tuples are immutable list with fixed size\n",
    "- all elements are knownn upon creation\n",
    "- cannot added new elements\n",
    "- cannot change elements via index"
   ]
  },
  {
   "cell_type": "code",
   "execution_count": 3,
   "id": "b48c7382",
   "metadata": {},
   "outputs": [
    {
     "name": "stdout",
     "output_type": "stream",
     "text": [
      "(1, 2, 3)\n"
     ]
    }
   ],
   "source": [
    "a_tuple = (1,2,3)\n",
    "print(a_tuple)"
   ]
  },
  {
   "cell_type": "code",
   "execution_count": 4,
   "id": "f114f9fa",
   "metadata": {},
   "outputs": [
    {
     "name": "stdout",
     "output_type": "stream",
     "text": [
      "(1, 2, 3)\n"
     ]
    }
   ],
   "source": [
    "tuple = 1,2,3\n",
    "print(tuple)"
   ]
  },
  {
   "cell_type": "markdown",
   "id": "21dea356",
   "metadata": {},
   "source": [
    "Tuples are interntwined in a lot of Python APIs (enumerate, dict.items()) <br>"
   ]
  },
  {
   "cell_type": "code",
   "execution_count": 27,
   "id": "f9211bd6",
   "metadata": {},
   "outputs": [
    {
     "name": "stdout",
     "output_type": "stream",
     "text": [
      "0 a\n",
      "1 b\n",
      "2 c\n",
      "3 d\n"
     ]
    }
   ],
   "source": [
    "# Example with enumerate Builtin\n",
    "for index, item in enumerate([\"a\", \"b\", \"c\", \"d\"]):\n",
    "    print(index, item)"
   ]
  },
  {
   "cell_type": "code",
   "execution_count": 12,
   "id": "6b0f208a",
   "metadata": {},
   "outputs": [
    {
     "name": "stdout",
     "output_type": "stream",
     "text": [
      "(7,)\n"
     ]
    }
   ],
   "source": [
    "# A tuples with one element\n",
    "a_tuple_with_one_element = (7,)\n",
    "print (a_tuple_with_one_element)"
   ]
  },
  {
   "cell_type": "code",
   "execution_count": 14,
   "id": "ad44bef9",
   "metadata": {},
   "outputs": [
    {
     "data": {
      "text/plain": [
       "tuple"
      ]
     },
     "execution_count": 14,
     "metadata": {},
     "output_type": "execute_result"
    }
   ],
   "source": [
    "# checking the type\n",
    "type(a_tuple_with_one_element)"
   ]
  },
  {
   "cell_type": "code",
   "execution_count": 16,
   "id": "1be14cca",
   "metadata": {},
   "outputs": [],
   "source": [
    "# Python typles are heterogeneos\n",
    "mixed_typles = (1, False, \"new\", (6,), None)"
   ]
  },
  {
   "cell_type": "code",
   "execution_count": 17,
   "id": "3aaca023",
   "metadata": {},
   "outputs": [
    {
     "data": {
      "text/plain": [
       "5"
      ]
     },
     "execution_count": 17,
     "metadata": {},
     "output_type": "execute_result"
    }
   ],
   "source": [
    "# Lenght of a tuple - len function from builtin\n",
    "len(mixed_typles)"
   ]
  },
  {
   "cell_type": "code",
   "execution_count": 18,
   "id": "fa500bd9",
   "metadata": {},
   "outputs": [
    {
     "data": {
      "text/plain": [
       "1"
      ]
     },
     "execution_count": 18,
     "metadata": {},
     "output_type": "execute_result"
    }
   ],
   "source": [
    "len((1,))"
   ]
  },
  {
   "cell_type": "code",
   "execution_count": 19,
   "id": "e2c28901",
   "metadata": {},
   "outputs": [
    {
     "data": {
      "text/plain": [
       "True"
      ]
     },
     "execution_count": 19,
     "metadata": {},
     "output_type": "execute_result"
    }
   ],
   "source": [
    "# boolean value of a tuple\n",
    "bool((1,2,3))"
   ]
  },
  {
   "cell_type": "code",
   "execution_count": 21,
   "id": "9b42c346",
   "metadata": {},
   "outputs": [
    {
     "name": "stdout",
     "output_type": "stream",
     "text": [
      "0\n",
      "1\n",
      "2\n",
      "3\n"
     ]
    }
   ],
   "source": [
    "# Iterate over elements and index\n",
    "xs = (\"a\", \"b\", \"c\", \"d\")\n",
    "for index in range(len(xs)):\n",
    "    print(index)"
   ]
  },
  {
   "cell_type": "code",
   "execution_count": 22,
   "id": "b9cc7b85",
   "metadata": {},
   "outputs": [
    {
     "data": {
      "text/plain": [
       "True"
      ]
     },
     "execution_count": 22,
     "metadata": {},
     "output_type": "execute_result"
    }
   ],
   "source": [
    "# Compare tuples\n",
    "() == ()"
   ]
  },
  {
   "cell_type": "code",
   "execution_count": 23,
   "id": "a787f5d8",
   "metadata": {},
   "outputs": [
    {
     "data": {
      "text/plain": [
       "False"
      ]
     },
     "execution_count": 23,
     "metadata": {},
     "output_type": "execute_result"
    }
   ],
   "source": [
    "(1,2) == (1,)"
   ]
  },
  {
   "cell_type": "markdown",
   "id": "f11a4987",
   "metadata": {},
   "source": [
    "If we access index that is out of the bounds we receive exeptions"
   ]
  },
  {
   "cell_type": "code",
   "execution_count": 24,
   "id": "f4601c10",
   "metadata": {},
   "outputs": [
    {
     "data": {
      "text/plain": [
       "(1, 2, 5, 7, 9, 13)"
      ]
     },
     "execution_count": 24,
     "metadata": {},
     "output_type": "execute_result"
    }
   ],
   "source": [
    "# Concatenate of 2 lists\n",
    "(1, 2, 5) + (7, 9, 13)"
   ]
  },
  {
   "cell_type": "code",
   "execution_count": 25,
   "id": "01574bd6",
   "metadata": {},
   "outputs": [
    {
     "data": {
      "text/plain": [
       "False"
      ]
     },
     "execution_count": 25,
     "metadata": {},
     "output_type": "execute_result"
    }
   ],
   "source": [
    "# Chech if elements belongs to a tuple\n",
    "4 in (1, 2, 3)"
   ]
  },
  {
   "cell_type": "code",
   "execution_count": 26,
   "id": "ea4027ec",
   "metadata": {},
   "outputs": [
    {
     "data": {
      "text/plain": [
       "True"
      ]
     },
     "execution_count": 26,
     "metadata": {},
     "output_type": "execute_result"
    }
   ],
   "source": [
    "4 not in [1, 2, 3]"
   ]
  },
  {
   "cell_type": "code",
   "execution_count": null,
   "id": "beddab16",
   "metadata": {},
   "outputs": [],
   "source": []
  }
 ],
 "metadata": {
  "kernelspec": {
   "display_name": "Python 3 (ipykernel)",
   "language": "python",
   "name": "python3"
  },
  "language_info": {
   "codemirror_mode": {
    "name": "ipython",
    "version": 3
   },
   "file_extension": ".py",
   "mimetype": "text/x-python",
   "name": "python",
   "nbconvert_exporter": "python",
   "pygments_lexer": "ipython3",
   "version": "3.9.16"
  }
 },
 "nbformat": 4,
 "nbformat_minor": 5
}
