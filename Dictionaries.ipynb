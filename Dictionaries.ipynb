{
 "cells": [
  {
   "cell_type": "markdown",
   "id": "645f6797",
   "metadata": {},
   "source": [
    "**Dictionaries in Python**"
   ]
  },
  {
   "cell_type": "markdown",
   "id": "6daff6bd",
   "metadata": {},
   "source": [
    "Dictionaries Recap:\n",
    "- we map specific **key** to a specific **value**, many times\n",
    "- **order** is not preserved\n",
    "- the **type** of the **key** can be anything\n",
    "- they are multiple implementations, but we are mostly interested in **hash maps**"
   ]
  },
  {
   "cell_type": "code",
   "execution_count": 1,
   "id": "d0c872af",
   "metadata": {},
   "outputs": [
    {
     "name": "stdout",
     "output_type": "stream",
     "text": [
      "{'Python': 'py', 'Java': '.java'}\n"
     ]
    }
   ],
   "source": [
    "extensions = {\"Python\": \"py\"}\n",
    "# add a new element\n",
    "extensions[\"Java\"] = \".java\"\n",
    "print(extensions)"
   ]
  },
  {
   "cell_type": "code",
   "execution_count": 2,
   "id": "4032dba6",
   "metadata": {},
   "outputs": [],
   "source": [
    "python_extensions = extensions[\"Python\"]\n",
    "# or\n",
    "# python_extensions = extensions.get(\"Python\")"
   ]
  },
  {
   "cell_type": "markdown",
   "id": "9580abaf",
   "metadata": {},
   "source": [
    "Dictionaries is mapping beetween **keys and values** <br>\n",
    "We can itterate over **keys, values or all key-value pairs**"
   ]
  },
  {
   "cell_type": "code",
   "execution_count": 3,
   "id": "4271a819",
   "metadata": {},
   "outputs": [
    {
     "name": "stdout",
     "output_type": "stream",
     "text": [
      "Python\n",
      "Java\n"
     ]
    }
   ],
   "source": [
    "# itterate over keys \n",
    "for key in extensions:\n",
    "    print(key)"
   ]
  },
  {
   "cell_type": "code",
   "execution_count": 4,
   "id": "0761c33d",
   "metadata": {},
   "outputs": [
    {
     "name": "stdout",
     "output_type": "stream",
     "text": [
      "py\n",
      ".java\n"
     ]
    }
   ],
   "source": [
    "# itterate over values using .values() method\n",
    "for value in extensions.values():\n",
    "    print(value)"
   ]
  },
  {
   "cell_type": "code",
   "execution_count": 5,
   "id": "28f35dd8",
   "metadata": {},
   "outputs": [
    {
     "name": "stdout",
     "output_type": "stream",
     "text": [
      "Python py\n",
      "Java .java\n"
     ]
    }
   ],
   "source": [
    "# itterate over all key-value pairs using items method\n",
    "for key, value in extensions.items():\n",
    "    print(key, value)"
   ]
  },
  {
   "cell_type": "code",
   "execution_count": 6,
   "id": "e6c6dcf9",
   "metadata": {},
   "outputs": [
    {
     "data": {
      "text/plain": [
       "2"
      ]
     },
     "execution_count": 6,
     "metadata": {},
     "output_type": "execute_result"
    }
   ],
   "source": [
    "# Lenght of a dictionary - len function from builtin\n",
    "len(extensions)"
   ]
  },
  {
   "cell_type": "code",
   "execution_count": 7,
   "id": "117380ce",
   "metadata": {},
   "outputs": [
    {
     "data": {
      "text/plain": [
       "True"
      ]
     },
     "execution_count": 7,
     "metadata": {},
     "output_type": "execute_result"
    }
   ],
   "source": [
    "# boolean value of a dictionary\n",
    "bool(extensions)"
   ]
  },
  {
   "cell_type": "code",
   "execution_count": 8,
   "id": "980b29de",
   "metadata": {},
   "outputs": [],
   "source": [
    "empty_dictionary = {}"
   ]
  },
  {
   "cell_type": "code",
   "execution_count": 9,
   "id": "18669097",
   "metadata": {},
   "outputs": [
    {
     "data": {
      "text/plain": [
       "False"
      ]
     },
     "execution_count": 9,
     "metadata": {},
     "output_type": "execute_result"
    }
   ],
   "source": [
    "bool(empty_dictionary)"
   ]
  },
  {
   "cell_type": "code",
   "execution_count": 10,
   "id": "429669f9",
   "metadata": {},
   "outputs": [
    {
     "name": "stdout",
     "output_type": "stream",
     "text": [
      "Hello\n"
     ]
    }
   ],
   "source": [
    "if extensions:\n",
    "    print(\"Hello\")"
   ]
  },
  {
   "cell_type": "code",
   "execution_count": 12,
   "id": "49d9e888",
   "metadata": {},
   "outputs": [
    {
     "data": {
      "text/plain": [
       "True"
      ]
     },
     "execution_count": 12,
     "metadata": {},
     "output_type": "execute_result"
    }
   ],
   "source": [
    "# Compare dictionary\n",
    "{} == {}"
   ]
  },
  {
   "cell_type": "code",
   "execution_count": 13,
   "id": "27fa4232",
   "metadata": {},
   "outputs": [
    {
     "data": {
      "text/plain": [
       "False"
      ]
     },
     "execution_count": 13,
     "metadata": {},
     "output_type": "execute_result"
    }
   ],
   "source": [
    "{\"too\": \"2\"} == {}"
   ]
  },
  {
   "cell_type": "code",
   "execution_count": 14,
   "id": "09a5f592",
   "metadata": {},
   "outputs": [],
   "source": [
    "empty_dictionary.get(\"too\")"
   ]
  },
  {
   "cell_type": "code",
   "execution_count": 15,
   "id": "1a4e283e",
   "metadata": {},
   "outputs": [
    {
     "data": {
      "text/plain": [
       "True"
      ]
     },
     "execution_count": 15,
     "metadata": {},
     "output_type": "execute_result"
    }
   ],
   "source": [
    "# check if the key exist with .get() method\n",
    "empty_dictionary.get(\"too\") is None"
   ]
  },
  {
   "cell_type": "code",
   "execution_count": 18,
   "id": "d1ed5de7",
   "metadata": {},
   "outputs": [
    {
     "data": {
      "text/plain": [
       "'miss the value'"
      ]
     },
     "execution_count": 18,
     "metadata": {},
     "output_type": "execute_result"
    }
   ],
   "source": [
    "# check if the key exist with get method and adding a value to show if is not exist\n",
    "empty_dictionary.get(\"too\", \"miss the value\")"
   ]
  },
  {
   "cell_type": "code",
   "execution_count": 22,
   "id": "5f0e32a9",
   "metadata": {},
   "outputs": [
    {
     "data": {
      "text/plain": [
       "False"
      ]
     },
     "execution_count": 22,
     "metadata": {},
     "output_type": "execute_result"
    }
   ],
   "source": [
    "# Chech if elements belongs to a dictionary\n",
    "\"key\" in {}"
   ]
  },
  {
   "cell_type": "code",
   "execution_count": 23,
   "id": "beae815b",
   "metadata": {},
   "outputs": [
    {
     "data": {
      "text/plain": [
       "True"
      ]
     },
     "execution_count": 23,
     "metadata": {},
     "output_type": "execute_result"
    }
   ],
   "source": [
    "\"key\" not in {}"
   ]
  },
  {
   "cell_type": "code",
   "execution_count": 24,
   "id": "c7edb3d3",
   "metadata": {},
   "outputs": [
    {
     "data": {
      "text/plain": [
       "True"
      ]
     },
     "execution_count": 24,
     "metadata": {},
     "output_type": "execute_result"
    }
   ],
   "source": [
    "\"key\" in {\"key\": \"8\"}"
   ]
  },
  {
   "cell_type": "code",
   "execution_count": null,
   "id": "d2440f36",
   "metadata": {},
   "outputs": [],
   "source": []
  }
 ],
 "metadata": {
  "kernelspec": {
   "display_name": "Python 3 (ipykernel)",
   "language": "python",
   "name": "python3"
  },
  "language_info": {
   "codemirror_mode": {
    "name": "ipython",
    "version": 3
   },
   "file_extension": ".py",
   "mimetype": "text/x-python",
   "name": "python",
   "nbconvert_exporter": "python",
   "pygments_lexer": "ipython3",
   "version": "3.9.16"
  }
 },
 "nbformat": 4,
 "nbformat_minor": 5
}
