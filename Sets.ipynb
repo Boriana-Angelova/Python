{
 "cells": [
  {
   "cell_type": "markdown",
   "id": "12134e9e",
   "metadata": {},
   "source": [
    "**Sets**"
   ]
  },
  {
   "cell_type": "markdown",
   "id": "a4ba1676",
   "metadata": {},
   "source": [
    "Sets Recap:\n",
    "- unordered with unique elements (hash sets)\n",
    "- ordered with unique elements (tree sets)\n",
    "- think - dictionaries <b>\"with only keys\"<b>\n",
    "- the types of the values can be anything\n",
    "\n"
   ]
  },
  {
   "cell_type": "code",
   "execution_count": 1,
   "id": "8c46aa58",
   "metadata": {},
   "outputs": [
    {
     "name": "stdout",
     "output_type": "stream",
     "text": [
      "{'Python', 'Java', 'Ruby'}\n",
      "3\n"
     ]
    }
   ],
   "source": [
    "# creating a sets\n",
    "a_set_new = {\"Python\", \"Java\", \"Java\", \"Python\"}\n",
    "# add e new value with .add() method\n",
    "a_set_new.add(\"Ruby\")\n",
    "print(a_set_new)\n",
    "# check the len\n",
    "print(len(a_set_new))"
   ]
  },
  {
   "cell_type": "code",
   "execution_count": 2,
   "id": "d6745e13",
   "metadata": {},
   "outputs": [],
   "source": [
    "# Creating a empty set with .set() method\n",
    "empty_set = set()"
   ]
  },
  {
   "cell_type": "code",
   "execution_count": 7,
   "id": "dc9d78f0",
   "metadata": {},
   "outputs": [],
   "source": [
    "# creating a new sets\n",
    "a_set =  {\"Python\", \"Java\", \"Java\", \"Python\"}\n",
    "another_set =  set([\"Python\", \"Java\", \"Java\", \"Python\"]) # Builtin"
   ]
  },
  {
   "cell_type": "code",
   "execution_count": 6,
   "id": "5df32b9e",
   "metadata": {},
   "outputs": [
    {
     "name": "stdout",
     "output_type": "stream",
     "text": [
      "True\n"
     ]
    }
   ],
   "source": [
    "print(a_set == another_set)"
   ]
  },
  {
   "cell_type": "code",
   "execution_count": 8,
   "id": "48e34734",
   "metadata": {},
   "outputs": [],
   "source": [
    "xs = {1,2,3,4}"
   ]
  },
  {
   "cell_type": "code",
   "execution_count": 9,
   "id": "cb1a1edb",
   "metadata": {},
   "outputs": [
    {
     "data": {
      "text/plain": [
       "True"
      ]
     },
     "execution_count": 9,
     "metadata": {},
     "output_type": "execute_result"
    }
   ],
   "source": [
    "bool(xs)"
   ]
  },
  {
   "cell_type": "code",
   "execution_count": 11,
   "id": "9fd75a8f",
   "metadata": {},
   "outputs": [
    {
     "data": {
      "text/plain": [
       "False"
      ]
     },
     "execution_count": 11,
     "metadata": {},
     "output_type": "execute_result"
    }
   ],
   "source": [
    "bool(set())"
   ]
  },
  {
   "cell_type": "code",
   "execution_count": 12,
   "id": "c804f47f",
   "metadata": {},
   "outputs": [
    {
     "name": "stdout",
     "output_type": "stream",
     "text": [
      "1\n",
      "2\n",
      "3\n",
      "4\n"
     ]
    }
   ],
   "source": [
    "# Iterate over the set\n",
    "for i in xs:\n",
    "    print(i)"
   ]
  },
  {
   "cell_type": "code",
   "execution_count": 13,
   "id": "800ad633",
   "metadata": {},
   "outputs": [
    {
     "data": {
      "text/plain": [
       "True"
      ]
     },
     "execution_count": 13,
     "metadata": {},
     "output_type": "execute_result"
    }
   ],
   "source": [
    "# Compare the sets\n",
    "{1,2} == {2,1,1}"
   ]
  },
  {
   "cell_type": "code",
   "execution_count": 14,
   "id": "7afaae89",
   "metadata": {},
   "outputs": [],
   "source": [
    "# If we try access index we receive exeptions"
   ]
  },
  {
   "cell_type": "code",
   "execution_count": 15,
   "id": "bc09c23a",
   "metadata": {},
   "outputs": [
    {
     "data": {
      "text/plain": [
       "True"
      ]
     },
     "execution_count": 15,
     "metadata": {},
     "output_type": "execute_result"
    }
   ],
   "source": [
    "# Chech if elements belongs to a set\n",
    "1 in {1,2}"
   ]
  },
  {
   "cell_type": "code",
   "execution_count": 16,
   "id": "4d67b7c9",
   "metadata": {},
   "outputs": [
    {
     "data": {
      "text/plain": [
       "False"
      ]
     },
     "execution_count": 16,
     "metadata": {},
     "output_type": "execute_result"
    }
   ],
   "source": [
    "1 in set()"
   ]
  },
  {
   "cell_type": "code",
   "execution_count": 17,
   "id": "e1745d71",
   "metadata": {},
   "outputs": [
    {
     "data": {
      "text/plain": [
       "True"
      ]
     },
     "execution_count": 17,
     "metadata": {},
     "output_type": "execute_result"
    }
   ],
   "source": [
    "1 not in set()"
   ]
  },
  {
   "cell_type": "code",
   "execution_count": 18,
   "id": "112aa018",
   "metadata": {},
   "outputs": [],
   "source": [
    "# Intersections of two sets"
   ]
  },
  {
   "cell_type": "code",
   "execution_count": 21,
   "id": "0b72b7b1",
   "metadata": {},
   "outputs": [],
   "source": [
    "a = {1,2,3}\n",
    "b = {4,5,6,3}"
   ]
  },
  {
   "cell_type": "code",
   "execution_count": 22,
   "id": "2f5d0603",
   "metadata": {},
   "outputs": [
    {
     "data": {
      "text/plain": [
       "{1, 2, 3, 4, 5, 6}"
      ]
     },
     "execution_count": 22,
     "metadata": {},
     "output_type": "execute_result"
    }
   ],
   "source": [
    "a|b"
   ]
  },
  {
   "cell_type": "code",
   "execution_count": 19,
   "id": "5c9a66a9",
   "metadata": {},
   "outputs": [],
   "source": [
    "# Union of two sets"
   ]
  },
  {
   "cell_type": "code",
   "execution_count": 23,
   "id": "248a8cbe",
   "metadata": {},
   "outputs": [
    {
     "data": {
      "text/plain": [
       "{3}"
      ]
     },
     "execution_count": 23,
     "metadata": {},
     "output_type": "execute_result"
    }
   ],
   "source": [
    "a & b"
   ]
  },
  {
   "cell_type": "code",
   "execution_count": 20,
   "id": "8e885b83",
   "metadata": {},
   "outputs": [],
   "source": [
    "# Differnce of two sets"
   ]
  },
  {
   "cell_type": "code",
   "execution_count": 24,
   "id": "0a679738",
   "metadata": {},
   "outputs": [
    {
     "data": {
      "text/plain": [
       "{1, 2}"
      ]
     },
     "execution_count": 24,
     "metadata": {},
     "output_type": "execute_result"
    }
   ],
   "source": [
    "a - b"
   ]
  },
  {
   "cell_type": "code",
   "execution_count": null,
   "id": "6221c016",
   "metadata": {},
   "outputs": [],
   "source": []
  }
 ],
 "metadata": {
  "kernelspec": {
   "display_name": "Python 3 (ipykernel)",
   "language": "python",
   "name": "python3"
  },
  "language_info": {
   "codemirror_mode": {
    "name": "ipython",
    "version": 3
   },
   "file_extension": ".py",
   "mimetype": "text/x-python",
   "name": "python",
   "nbconvert_exporter": "python",
   "pygments_lexer": "ipython3",
   "version": "3.9.16"
  }
 },
 "nbformat": 4,
 "nbformat_minor": 5
}
