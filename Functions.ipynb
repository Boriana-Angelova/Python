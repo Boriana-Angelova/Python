{
 "cells": [
  {
   "cell_type": "markdown",
   "id": "6105290f",
   "metadata": {},
   "source": [
    "Funcyions:\n",
    "- encapsulates logic under a name\n",
    "- reusability\n",
    "- can be used outside of a class\n"
   ]
  },
  {
   "cell_type": "code",
   "execution_count": 1,
   "id": "efd98d33",
   "metadata": {},
   "outputs": [],
   "source": [
    "def function_name(argument1, argument2):\n",
    "    print(argument1,argument2)\n",
    "    \n",
    "    return 42"
   ]
  },
  {
   "cell_type": "code",
   "execution_count": 2,
   "id": "e43b3d35",
   "metadata": {},
   "outputs": [
    {
     "name": "stdout",
     "output_type": "stream",
     "text": [
      "1 2\n"
     ]
    }
   ],
   "source": [
    "result = function_name(1,2)"
   ]
  },
  {
   "cell_type": "code",
   "execution_count": null,
   "id": "a8fd2a99",
   "metadata": {},
   "outputs": [],
   "source": []
  },
  {
   "cell_type": "code",
   "execution_count": 3,
   "id": "93172ed6",
   "metadata": {},
   "outputs": [],
   "source": [
    "# using a local variable\n",
    "a=1\n",
    "b=2\n",
    "def f(a, b):\n",
    "    print(a, b)\n",
    "    \n",
    "    return a+b"
   ]
  },
  {
   "cell_type": "code",
   "execution_count": 4,
   "id": "4cf6e2a0",
   "metadata": {},
   "outputs": [
    {
     "name": "stdout",
     "output_type": "stream",
     "text": [
      "3 4\n",
      "7\n"
     ]
    }
   ],
   "source": [
    "result = f(3,4)\n",
    "print(result)"
   ]
  },
  {
   "cell_type": "code",
   "execution_count": 5,
   "id": "7d49942d",
   "metadata": {},
   "outputs": [],
   "source": [
    "# using global variables\n",
    "def g():\n",
    "    print(a, b)\n",
    "    \n",
    "    return a+b"
   ]
  },
  {
   "cell_type": "code",
   "execution_count": 6,
   "id": "4947a081",
   "metadata": {},
   "outputs": [
    {
     "name": "stdout",
     "output_type": "stream",
     "text": [
      "1 2\n",
      "3\n"
     ]
    }
   ],
   "source": [
    "result = g()\n",
    "print(result)"
   ]
  },
  {
   "cell_type": "code",
   "execution_count": null,
   "id": "20eafedb",
   "metadata": {},
   "outputs": [],
   "source": []
  },
  {
   "cell_type": "code",
   "execution_count": 7,
   "id": "3e3b501f",
   "metadata": {},
   "outputs": [],
   "source": [
    "# Positional *arguments (*args)\n",
    "def sum(*xs):\n",
    "    result = 0\n",
    "    \n",
    "    for x in xs:\n",
    "        result += x\n",
    "        return result\n",
    "result = sum(1,2,3)\n",
    "also_result = sum(*[1,2,3])"
   ]
  },
  {
   "cell_type": "code",
   "execution_count": 8,
   "id": "0fb7a11f",
   "metadata": {},
   "outputs": [
    {
     "name": "stdout",
     "output_type": "stream",
     "text": [
      "1\n",
      "1\n"
     ]
    }
   ],
   "source": [
    "print(result)\n",
    "print(also_result)"
   ]
  },
  {
   "cell_type": "code",
   "execution_count": 9,
   "id": "2b93f173",
   "metadata": {},
   "outputs": [
    {
     "name": "stdout",
     "output_type": "stream",
     "text": [
      "['a', 'b']\n",
      "['a', 'b']\n"
     ]
    }
   ],
   "source": [
    "# Keyword **argument (**kwargs)\n",
    "def key(**d):\n",
    "    result = []\n",
    "    for key in d: \n",
    "        result.append(key)\n",
    "    return result\n",
    "\n",
    "result = key(a=1, b=2)\n",
    "d= {\"a\": 1, \"b\": 2}\n",
    "also_result = key(**d)\n",
    "print(result)\n",
    "print(also_result)"
   ]
  },
  {
   "cell_type": "code",
   "execution_count": 10,
   "id": "041554b2",
   "metadata": {},
   "outputs": [],
   "source": [
    "def f(*args, **kwargs):\n",
    "    print(args)\n",
    "    print(kwargs)"
   ]
  },
  {
   "cell_type": "code",
   "execution_count": 11,
   "id": "4147d431",
   "metadata": {},
   "outputs": [
    {
     "name": "stdout",
     "output_type": "stream",
     "text": [
      "()\n",
      "{}\n"
     ]
    }
   ],
   "source": [
    "f()"
   ]
  },
  {
   "cell_type": "code",
   "execution_count": null,
   "id": "4bf8067f",
   "metadata": {},
   "outputs": [],
   "source": []
  }
 ],
 "metadata": {
  "kernelspec": {
   "display_name": "Python 3 (ipykernel)",
   "language": "python",
   "name": "python3"
  },
  "language_info": {
   "codemirror_mode": {
    "name": "ipython",
    "version": 3
   },
   "file_extension": ".py",
   "mimetype": "text/x-python",
   "name": "python",
   "nbconvert_exporter": "python",
   "pygments_lexer": "ipython3",
   "version": "3.9.16"
  }
 },
 "nbformat": 4,
 "nbformat_minor": 5
}
