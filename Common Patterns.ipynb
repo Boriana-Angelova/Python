{
 "cells": [
  {
   "cell_type": "markdown",
   "id": "1436d68c",
   "metadata": {},
   "source": [
    "<b>Common Patterns: <b> <br>\n",
    "1)Multiple assignments <br>\n",
    "2)While loop <br>\n",
    "3)String formmating"
   ]
  },
  {
   "cell_type": "code",
   "execution_count": null,
   "id": "537233a9",
   "metadata": {},
   "outputs": [],
   "source": []
  },
  {
   "cell_type": "code",
   "execution_count": 1,
   "id": "ba39a0ab",
   "metadata": {},
   "outputs": [
    {
     "name": "stdout",
     "output_type": "stream",
     "text": [
      "1\n",
      "2\n"
     ]
    }
   ],
   "source": [
    "# Multiple assignments tuples\n",
    "x, y = (1,2)\n",
    "print(x)\n",
    "print(y)"
   ]
  },
  {
   "cell_type": "code",
   "execution_count": 2,
   "id": "a29b59be",
   "metadata": {},
   "outputs": [
    {
     "name": "stdout",
     "output_type": "stream",
     "text": [
      "13\n",
      "4\n"
     ]
    }
   ],
   "source": [
    "# Multiple assignments lists\n",
    "x, y = [13,4]\n",
    "print(x)\n",
    "print(y)"
   ]
  },
  {
   "cell_type": "code",
   "execution_count": 3,
   "id": "faf2f0e8",
   "metadata": {},
   "outputs": [],
   "source": [
    "d = {\"a\": 1, \"b\": 2, \"c\": 3}"
   ]
  },
  {
   "cell_type": "code",
   "execution_count": 4,
   "id": "7d181237",
   "metadata": {},
   "outputs": [
    {
     "name": "stdout",
     "output_type": "stream",
     "text": [
      "a 1\n",
      "b 2\n",
      "c 3\n"
     ]
    }
   ],
   "source": [
    "for key, values in d.items():\n",
    "    print(key, values)"
   ]
  },
  {
   "cell_type": "code",
   "execution_count": null,
   "id": "85567998",
   "metadata": {},
   "outputs": [],
   "source": []
  },
  {
   "cell_type": "code",
   "execution_count": 5,
   "id": "e079f299",
   "metadata": {},
   "outputs": [
    {
     "name": "stdout",
     "output_type": "stream",
     "text": [
      "0\n",
      "1\n",
      "2\n",
      "3\n"
     ]
    }
   ],
   "source": [
    "# While loop \n",
    "index = 0\n",
    "n = 4\n",
    "while index < n:\n",
    "    print(index)\n",
    "    index = index + 1"
   ]
  },
  {
   "cell_type": "code",
   "execution_count": 6,
   "id": "3408cbef",
   "metadata": {},
   "outputs": [
    {
     "data": {
      "text/plain": [
       "11"
      ]
     },
     "execution_count": 6,
     "metadata": {},
     "output_type": "execute_result"
    }
   ],
   "source": [
    "count = 0\n",
    "while True:\n",
    "    count += 1\n",
    "    if count >10:\n",
    "        break\n",
    "count"
   ]
  },
  {
   "cell_type": "code",
   "execution_count": null,
   "id": "6ead8310",
   "metadata": {},
   "outputs": [],
   "source": []
  },
  {
   "cell_type": "code",
   "execution_count": 7,
   "id": "a7553ae4",
   "metadata": {},
   "outputs": [],
   "source": [
    "# String formmating\n",
    "a = \"is\"\n",
    "b = \"pretty well\""
   ]
  },
  {
   "cell_type": "code",
   "execution_count": 8,
   "id": "03cb10df",
   "metadata": {},
   "outputs": [
    {
     "name": "stdout",
     "output_type": "stream",
     "text": [
      "this string is formatted pretty well\n"
     ]
    }
   ],
   "source": [
    "# F-string\n",
    "f_string = f\"this string {a} formatted {b}\"\n",
    "print(f_string)"
   ]
  },
  {
   "cell_type": "code",
   "execution_count": 9,
   "id": "4984d783",
   "metadata": {},
   "outputs": [
    {
     "name": "stdout",
     "output_type": "stream",
     "text": [
      "this string is formatted pretty well\n"
     ]
    }
   ],
   "source": [
    "# Format method\n",
    "format_method = \"this string {a} formatted {b}\".format(a=a, b=b)\n",
    "print(format_method)"
   ]
  },
  {
   "cell_type": "code",
   "execution_count": 10,
   "id": "f74f84ac",
   "metadata": {},
   "outputs": [
    {
     "name": "stdout",
     "output_type": "stream",
     "text": [
      "A list of string\n"
     ]
    }
   ],
   "source": [
    "# .join() method\n",
    "words = [\"A\", \"list\", \"of\", \"string\"]\n",
    "print(\" \".join(words))"
   ]
  },
  {
   "cell_type": "code",
   "execution_count": 11,
   "id": "e35abc54",
   "metadata": {},
   "outputs": [],
   "source": [
    "def f(*args, **kwargs):\n",
    "    print(args)\n",
    "    print(kwargs)"
   ]
  },
  {
   "cell_type": "code",
   "execution_count": 12,
   "id": "4879d8ad",
   "metadata": {},
   "outputs": [
    {
     "name": "stdout",
     "output_type": "stream",
     "text": [
      "(1, 2)\n",
      "{'a': 2}\n"
     ]
    }
   ],
   "source": [
    "f(1,2,a=2)"
   ]
  },
  {
   "cell_type": "code",
   "execution_count": null,
   "id": "e9a5f4a8",
   "metadata": {},
   "outputs": [],
   "source": []
  }
 ],
 "metadata": {
  "kernelspec": {
   "display_name": "Python 3 (ipykernel)",
   "language": "python",
   "name": "python3"
  },
  "language_info": {
   "codemirror_mode": {
    "name": "ipython",
    "version": 3
   },
   "file_extension": ".py",
   "mimetype": "text/x-python",
   "name": "python",
   "nbconvert_exporter": "python",
   "pygments_lexer": "ipython3",
   "version": "3.9.16"
  }
 },
 "nbformat": 4,
 "nbformat_minor": 5
}
